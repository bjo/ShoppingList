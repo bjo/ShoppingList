{
 "cells": [
  {
   "cell_type": "markdown",
   "metadata": {},
   "source": [
    "Following the tutorial here:\n",
    "\n",
    "https://www.youtube.com/watch?v=kN1Czs0m1SU\n",
    "\n",
    "Goals: Follow through the tutorial and learn basic Electron concepts, as well as refresh on basic Javascript"
   ]
  },
  {
   "cell_type": "code",
   "execution_count": null,
   "metadata": {},
   "outputs": [],
   "source": [
    "# List of commands \n",
    "\n",
    "npm init\n",
    "\n",
    "npm install --save electron\n",
    "\n",
    "# modify package.json, scripts{'start'} to 'electon .'\n",
    "\n",
    "npm start\n",
    "# Starts the app, equivalent to electron ."
   ]
  },
  {
   "cell_type": "markdown",
   "metadata": {},
   "source": [
    "First things first: Looking at main.js file:\n",
    "\n",
    "app is an electron object, and app.on('ready') waits for the app to be 'ready' and is the default behavior when the app starts.\n",
    "BrowserWindow() is a app window that will display the html/css/javascript codes\n",
    "utl and path packages have been used to load a local file located at file://dirname/mainWindow.html"
   ]
  },
  {
   "cell_type": "markdown",
   "metadata": {},
   "source": [
    "Making custom menu\n",
    "\n",
    "const mainMenuTemplate is an array, with label: 'File', which has a submenu, which is also an array with items {label: 'Add Item'}, {label: 'Clear Item'}, and {label: 'Quit'}\n",
    "\n",
    "mainMenu = Menu.buildFromTemplate(template) and Menu.setApplicationMenu(mainMenu) allows us to set custom menu\n",
    "\n",
    "app.quit() is an action that causes the app to quit\n",
    "accelerator allows for shortcuts, and we need to use 'Command' for Mac ('darwin'), and Ctrl for everything else\n",
    "\n",
    "When using subwindows, it is useful to use addWindow.on('close', function(){addWindow=null}); for memory efficiency and garbage collection"
   ]
  },
  {
   "cell_type": "markdown",
   "metadata": {},
   "source": [
    "process.env.NOVE_ENV is going to be set as 'production' in production mode\n",
    "\n",
    "toggleDevTools() function toggles the devTools\n",
    "role: 'reload' is the reload functionality"
   ]
  },
  {
   "cell_type": "markdown",
   "metadata": {},
   "source": [
    "For Electron packager tutorial:\n",
    "\n",
    "https://www.christianengvall.se/electron-packager-tutorial/\n",
    "\n",
    "First, let's globally install electron-packager:\n",
    "npm install electron-packager -g\n",
    "\n",
    "Then add the following scripts to package.json:\n",
    "    \"package-mac\": \"electron-packager . --overwrite --platform=darwin --arch=x64 --icon=assets/icons/mac/icon.icns --prune=true --out=release-builds\",\n",
    "    \"package-win\": \"electron-packager . Shopping-List --overwrite --asar=true --platform=win32 --arch=ia32 --icon=assets/icons/win/icon.ico --prune=true --out=release-builds --version-string.CompanyName=CE --version-string.FileDescription=CE --version-string.ProductName=\\\"ShoppingList\\\"\",    \n",
    "    \"package-linux\": \"electron-packager . Shopping-List --overwrite --asar=true --platform=linux --arch=x64 --icon=assets/icons/png/icon.png --prune=true --out=release-builds\"\n",
    "\n",
    "Note that the icons need to be downloaded to the appropriate directories written above.\n",
    "\n",
    "Now, to export to a desktop application:\n",
    "npm run package-win\n"
   ]
  }
 ],
 "metadata": {
  "kernelspec": {
   "display_name": "Python 2",
   "language": "python",
   "name": "python2"
  },
  "language_info": {
   "codemirror_mode": {
    "name": "ipython",
    "version": 2
   },
   "file_extension": ".py",
   "mimetype": "text/x-python",
   "name": "python",
   "nbconvert_exporter": "python",
   "pygments_lexer": "ipython2",
   "version": "2.7.15"
  }
 },
 "nbformat": 4,
 "nbformat_minor": 2
}
